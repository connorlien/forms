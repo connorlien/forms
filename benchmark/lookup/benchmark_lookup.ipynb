{
 "cells": [
  {
   "cell_type": "code",
   "execution_count": 1,
   "id": "94460477",
   "metadata": {},
   "outputs": [],
   "source": [
    "import pandas as pd\n",
    "import time\n",
    "import random\n",
    "from typing import Callable\n",
    "\n",
    "from forms.executor.dfexecutor.lookup.lookupfuncexecutor import lookup_binary_search, lookup_binary_search_np, lookup_sort_merge\n",
    "from forms.executor.dfexecutor.lookup.vlookupfuncexecutor import vlookup_exact_hash, vlookup_exact_loops"
   ]
  },
  {
   "cell_type": "code",
   "execution_count": 2,
   "id": "b0790f45",
   "metadata": {},
   "outputs": [],
   "source": [
    "def create_df(size=(1000, 10), df_type=\"constant\", start_val: float = 0, first_col_idx=True, seed=2):\n",
    "    rows, cols = size\n",
    "    assert rows >= 1 and cols >= 1\n",
    "    lst = [([0.0] * cols) for _ in range(rows)]\n",
    "    random.seed(seed)\n",
    "    for i in range(rows):\n",
    "        col_start = 0\n",
    "        if first_col_idx:\n",
    "            col_start = 1\n",
    "            lst[i][0] = i\n",
    "        for j in range(col_start, cols):\n",
    "            if df_type == \"constant\":\n",
    "                val = start_val\n",
    "            elif df_type == \"range\":\n",
    "                val = start_val + i\n",
    "            elif df_type == \"random\":\n",
    "                val = random.random() * rows\n",
    "            else:\n",
    "                raise IOError(f\"Df type {df_type} is not supported!\")\n",
    "            lst[i][j] = val\n",
    "    return pd.DataFrame(lst)"
   ]
  },
  {
   "cell_type": "code",
   "execution_count": 3,
   "id": "75da31eb",
   "metadata": {},
   "outputs": [],
   "source": [
    "def run_lookup_trials(df: pd.DataFrame, lookup_func: Callable):\n",
    "    values, search_range, result_range = df.iloc[:, 1], df.iloc[:, 0], df.iloc[:, 2]\n",
    "\n",
    "    iterations: int = 5\n",
    "\n",
    "    # Warm up cache\n",
    "    lookup_func(values, search_range, result_range)\n",
    "\n",
    "    # Run trials\n",
    "    total_time = 0\n",
    "    for i in range(iterations):\n",
    "        start_time = time.time()\n",
    "        lookup_func(values, search_range, result_range)\n",
    "        total_time += time.time() - start_time\n",
    "\n",
    "    return total_time / iterations"
   ]
  },
  {
   "cell_type": "code",
   "execution_count": 4,
   "id": "b5e0aef5",
   "metadata": {},
   "outputs": [],
   "source": [
    "def run_vlookup_exact_trials(df: pd.DataFrame, lookup_func: Callable):\n",
    "    values = df.iloc[:, 1]\n",
    "    col_idxes = pd.Series([df.shape[1]] * df.shape[0])\n",
    "\n",
    "    iterations: int = 5\n",
    "\n",
    "    # Warm up cache\n",
    "    lookup_func(values, df, col_idxes)\n",
    "\n",
    "    # Run trials\n",
    "    total_time = 0\n",
    "    for i in range(iterations):\n",
    "        start_time = time.time()\n",
    "        lookup_func(values, df, col_idxes)\n",
    "        total_time += time.time() - start_time\n",
    "\n",
    "    return total_time / iterations"
   ]
  },
  {
   "cell_type": "code",
   "execution_count": 5,
   "id": "0b6feb18",
   "metadata": {},
   "outputs": [
    {
     "name": "stdout",
     "output_type": "stream",
     "text": [
      "\n",
      "BENCHMARKING LOOKUP -------------------- \n",
      "\n",
      "Constant DataFrame Exact\n",
      "Binary search time: 0.0827484130859375\n",
      "Sort merge time: 0.0052035808563232425\n",
      "Binary search NumPy time: 0.009124374389648438\n",
      "\n",
      "Range DataFrame Exact\n",
      "Binary search time: 0.08574237823486328\n",
      "Sort merge time: 0.015183353424072265\n",
      "Binary search NumPy time: 0.009176206588745118\n",
      "\n",
      "Range DataFrame Approximate\n",
      "Binary search time: 0.07981395721435547\n",
      "Sort merge time: 0.020752763748168944\n",
      "Binary search NumPy time: 0.008109760284423829\n",
      "\n",
      "Range DataFrame Approximate NaN\n",
      "Binary search time: 0.07844061851501465\n",
      "Sort merge time: 0.020850515365600585\n",
      "Binary search NumPy time: 0.007762813568115234\n",
      "\n",
      "Random DataFrame Approximate\n",
      "Binary search time: 0.07918896675109863\n",
      "Sort merge time: 0.018822383880615235\n",
      "Binary search NumPy time: 0.008295965194702149\n",
      "\n"
     ]
    }
   ],
   "source": [
    "print(\"\\nBENCHMARKING LOOKUP\", \"-\" * 20, \"\\n\")\n",
    "\n",
    "subtitle1, subtitle2, subtitle3 = \"Binary search\", \"Sort merge\", \"Binary search NumPy\"\n",
    "\n",
    "def run_lookup_benchmark(df, title):\n",
    "    time1 = run_lookup_trials(df, lookup_binary_search)\n",
    "    time2 = run_lookup_trials(df, lookup_sort_merge)\n",
    "    time3 = run_lookup_trials(df, lookup_binary_search_np)\n",
    "    print(title)\n",
    "    print(f\"{subtitle1} time: {time1}\")\n",
    "    print(f\"{subtitle2} time: {time2}\")\n",
    "    print(f\"{subtitle3} time: {time3}\")\n",
    "    print()\n",
    "\n",
    "df = create_df(df_type=\"constant\", start_val=50)\n",
    "run_lookup_benchmark(df, \"Constant DataFrame Exact\")\n",
    "\n",
    "df = create_df(df_type=\"range\", start_val=0)\n",
    "run_lookup_benchmark(df, \"Range DataFrame Exact\")\n",
    "\n",
    "df = create_df(df_type=\"range\", start_val=0.5)\n",
    "run_lookup_benchmark(df, \"Range DataFrame Approximate\")\n",
    "\n",
    "df = create_df(df_type=\"range\", start_val=-2.5)\n",
    "run_lookup_benchmark(df, \"Range DataFrame Approximate NaN\")\n",
    "\n",
    "df = create_df(df_type=\"random\")\n",
    "run_lookup_benchmark(df, \"Random DataFrame Approximate\")"
   ]
  },
  {
   "cell_type": "code",
   "execution_count": 6,
   "id": "544a44c4",
   "metadata": {},
   "outputs": [
    {
     "name": "stdout",
     "output_type": "stream",
     "text": [
      "\n",
      "BENCHMARKING VLOOKUP EXACT ------------- \n",
      "\n",
      "Constant DataFrame Exact\n",
      "Nested Loops time: 0.14830985069274902\n",
      "Hash and Probe time: 0.0447239875793457\n",
      "\n",
      "Range DataFrame Exact\n",
      "Nested Loops time: 0.1719046115875244\n",
      "Hash and Probe time: 0.04344358444213867\n",
      "\n",
      "Range DataFrame All NaN\n",
      "Nested Loops time: 0.18710665702819823\n",
      "Hash and Probe time: 0.022646999359130858\n",
      "\n"
     ]
    }
   ],
   "source": [
    "print(\"\\nBENCHMARKING VLOOKUP EXACT\", \"-\" * 13, \"\\n\")\n",
    "\n",
    "subtitle1, subtitle2, subtitle3 = \"Nested Loops\", \"Hash and Probe\", \"Binary search NumPy\"\n",
    "\n",
    "def run_vlookup_benchmark(df, title):\n",
    "    time1 = run_vlookup_exact_trials(df, vlookup_exact_loops)\n",
    "    time2 = run_vlookup_exact_trials(df, vlookup_exact_hash)\n",
    "    print(title)\n",
    "    print(f\"{subtitle1} time: {time1}\")\n",
    "    print(f\"{subtitle2} time: {time2}\")\n",
    "    print()\n",
    "\n",
    "df = create_df(df_type=\"constant\", start_val=50)\n",
    "run_vlookup_benchmark(df, \"Constant DataFrame Exact\")\n",
    "\n",
    "df = create_df(df_type=\"range\", start_val=0)\n",
    "run_vlookup_benchmark(df, \"Range DataFrame Exact\")\n",
    "\n",
    "df = create_df(df_type=\"range\", start_val=0.5)\n",
    "run_vlookup_benchmark(df, \"Range DataFrame All NaN\")"
   ]
  },
  {
   "cell_type": "code",
   "execution_count": null,
   "id": "ec69f842",
   "metadata": {},
   "outputs": [],
   "source": []
  }
 ],
 "metadata": {
  "kernelspec": {
   "display_name": "forms",
   "language": "python",
   "name": "forms"
  },
  "language_info": {
   "codemirror_mode": {
    "name": "ipython",
    "version": 3
   },
   "file_extension": ".py",
   "mimetype": "text/x-python",
   "name": "python",
   "nbconvert_exporter": "python",
   "pygments_lexer": "ipython3",
   "version": "3.9.5"
  }
 },
 "nbformat": 4,
 "nbformat_minor": 5
}
